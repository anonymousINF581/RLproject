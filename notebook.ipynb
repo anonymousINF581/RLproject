{
  "nbformat": 4,
  "nbformat_minor": 0,
  "metadata": {
    "colab": {
      "name": "notebook.ipynb",
      "provenance": [],
      "collapsed_sections": [
        "LEeAWke0w719",
        "qWM7TR2AxJ1A",
        "nzs1wl8Y0mfL",
        "nUU74s8r0sKN",
        "vRvD95EPGK9F",
        "7paudi9B2FPB",
        "Q-KpOBQFBQVw"
      ]
    },
    "kernelspec": {
      "display_name": "Python 3",
      "name": "python3"
    }
  },
  "cells": [
    {
      "cell_type": "markdown",
      "metadata": {
        "id": "MUW62aA6wI-A"
      },
      "source": [
        "# **INF.581 PROJECT NOTEBOOK**\r\n",
        "# *AVOIDING FOOD WASTE : DYNAMIC PRICES IN RESTAURANTS* \r\n",
        "\r\n",
        "*Anonymous Authors*\r\n",
        "\r\n",
        "___"
      ]
    },
    {
      "cell_type": "markdown",
      "metadata": {
        "id": "LEeAWke0w719"
      },
      "source": [
        "## **INTRODUCTION**"
      ]
    },
    {
      "cell_type": "markdown",
      "metadata": {
        "id": "L0KmhIChx3nW"
      },
      "source": [
        "Through this notebook,  we want to design algorithms able to dinamically find optimized prices for retaurant menus. The  aim  of  our  project  is to  provide  prices  that would enable  restaurants  to  avoid  food  waste at the  end  of  the  night. Here are two articles about the necessity of reducing fod waste:\r\n",
        "- [Americans Waste About A Pound Of Food A Day, USDA Study Finds](https://www.forbes.com/sites/christinatroitino/2018/04/23/americans-waste-about-a-pound-of-food-a-day-usda-study-finds/?sh=4e84a9d44ec3);\r\n",
        "- [A third of all food in the U.S. gets wasted. Fixing that could help fight climate change](https://www.washingtonpost.com/climate-solutions/2021/02/25/climate-curious-food-waste/))\r\n",
        "\r\n",
        "The  principle  is  pretty  easy. Let's take an exampel to illustrate it: if a Pizzeria has tomatoes for 20 more pizzas and it is already 10 p.m., those pizzas will not be consumed which will lead to food waste because those tomatoes cannot be used the day after. Our algorithm has to find prices that would attract clients who will consume those 20 extra Pizzas. Let's precise that here we assume that selling meals at lower prices is better than wasting food.\r\n",
        "\r\n",
        "We  are  convinced  that  the  data  collected  by  online  food platforms  such  as  Uber  Eats  is  enough  to  build  efficient algorithm  to  avoid  food  waste.  However  we  do  not  have any access  to it and  one  of  the  major challenges   we   face   is   building   a   realistic   simulation   ofclients consumption. Indeed, we have to produce randomizedrealistic  clients’  behaviors  for  each  day  of  our  simulation.We  also  have  to  build  a  sort  of  city,  chose  the  number  ofrestaurants, the prices of their plates, the size of their stocks ..."
      ]
    },
    {
      "cell_type": "markdown",
      "metadata": {
        "id": "qWM7TR2AxJ1A"
      },
      "source": [
        "## **I. INITIALIZATION**"
      ]
    },
    {
      "cell_type": "markdown",
      "metadata": {
        "id": "nzs1wl8Y0mfL"
      },
      "source": [
        "### *I.A. LIBRARIES IMPORT*"
      ]
    },
    {
      "cell_type": "code",
      "metadata": {
        "id": "u2qyuuYACtDx"
      },
      "source": [
        "import gym\r\n",
        "from gym import spaces\r\n",
        "from gym.spaces import Discrete\r\n",
        "from gym.spaces import Tuple\r\n",
        "\r\n",
        "import matplotlib.pyplot as plt\r\n",
        "import numpy as np"
      ],
      "execution_count": null,
      "outputs": []
    },
    {
      "cell_type": "markdown",
      "metadata": {
        "id": "nUU74s8r0sKN"
      },
      "source": [
        "### *I.B. GLOBAL VARIABLES*"
      ]
    },
    {
      "cell_type": "markdown",
      "metadata": {
        "id": "IfhsmeXUBUqe"
      },
      "source": [
        "Here is a description of the variables declared:\r\n",
        "\r\n",
        "- **NR** [integer]:<br>\r\n",
        "The total number of restaurants.\r\n",
        "\r\n",
        "- **RATINGS** [float array]:<br>\r\n",
        "An array storing the ratings of the NR restaurants. Initially each reastaurant is given a rating which is a float value between 0 and 1 randomly attributed according to a normal law with a $3.77$ mean and a $0.3$ variance with a normalizing factor of $\\frac{1}{5}$ (since the maximum rating is 5). Those parameters have been determined accordingly to the following *medium* study: [Restaurant Ratings On Yelp Are Remarkably Consistent, No Matter Who’s Writing Them, When, And Where](https://medium.com/locally-optimal/restaurant-ratings-on-yelp-are-remarkably-consistent-no-matter-whos-writing-them-when-and-where-10c54727454)\r\n",
        "\r\n",
        "- **T** (integer):<br>\r\n",
        "The total period of time (in arbitrary units) the restaurants have to sell their meals.\r\n",
        "\r\n",
        "- **NC**:<br>\r\n",
        "The total number of potentiall clients over the period of time. Depending on the total stock of the restaurant, either some of them may not be able to order a meal or the restaurant may not have enough clients.\r\n",
        "\r\n",
        "- **P$_{MIN}$**,**P$_{MAX}$**:<br>\r\n",
        "The minimum and the maximum price of the meals.\r\n",
        "\r\n",
        "- **NP**:<br>\r\n",
        "The number of possible prices between P$_{MIN}$ and P$_{MAX}$ which set is defined as it follows: $A=\\{ P_{MIN} + i\\times\\frac{(P_{MAX}-P_{MIN})}{N_P} |i\\in[\\![0,N_P]\\!]\\}$\r\n",
        "\r\n",
        "- **C$_{MAX}$**:<br>\r\n",
        "The minimum and the maximum number of the meals per restaurant.\r\n",
        "\r\n",
        "- **POLICIES**:<br>\r\n",
        "The policies to consider when taking an action (defining a price)."
      ]
    },
    {
      "cell_type": "code",
      "metadata": {
        "id": "lNIlSnhI77vB"
      },
      "source": [
        "# number of restaurants\r\n",
        "NR = 3\r\n",
        "\r\n",
        "# restaurants ratings\r\n",
        "RATINGS = np.sort(np.round(np.random.normal(3.77, 0.3, NR) / 5, 2))\r\n",
        "\r\n",
        "# period of time\r\n",
        "T = 500\r\n",
        "\r\n",
        "# minimum and maximum prices for meals (arbitrary units)\r\n",
        "P_MIN,P_MAX = 1,10\r\n",
        "\r\n",
        "# number of subdivision between P_MIN and P_MAX for the prices\r\n",
        "NP = 9\r\n",
        "\r\n",
        "# set of prices\r\n",
        "A = np.array([P_MIN + i*(P_MAX - P_MIN)/NP for i in range(NP+1)])\r\n",
        "\r\n",
        "# minimum and maximum stocks (arbitrary units)\r\n",
        "C_MAX = 300\r\n",
        "\r\n",
        "# number of potential clients (demand slightly higher than offer)\r\n",
        "NC = int(1.2 * NR * C_MAX)\r\n",
        "\r\n",
        "POLICIES = [\"average\", \"dynamic\", \"max\", \"min\", \"random\"]"
      ],
      "execution_count": null,
      "outputs": []
    },
    {
      "cell_type": "markdown",
      "metadata": {
        "id": "_WYUMnVzIcOK"
      },
      "source": [
        "The following functions can be used later in order to modify or get information about those variables:"
      ]
    },
    {
      "cell_type": "code",
      "metadata": {
        "id": "BvjmQRs8IZ-n"
      },
      "source": [
        "def set_variables(nr=3, t=500, p_min=1, p_max=10, n_p=9, c_max=300):\r\n",
        "\r\n",
        "  global NR, RATINGS, T, NC, P_MIN, P_MAX, NP, A, C_MAX\r\n",
        "\r\n",
        "  NC = int(1.2 * nr * c_max)\r\n",
        "\r\n",
        "  NR, T, P_MIN, P_MAX, NP, C_MAX = nr, t, p_min, p_max, n_p, c_max\r\n",
        "\r\n",
        "  RATINGS = np.sort(np.round(np.random.normal(3.77, 0.3, nr) / 5, 2))\r\n",
        "\r\n",
        "  A = np.array([P_MIN + i * (P_MAX - P_MIN) / n_p for i in range(n_p +1)])"
      ],
      "execution_count": null,
      "outputs": []
    },
    {
      "cell_type": "code",
      "metadata": {
        "id": "4OHf-NE1jQ92"
      },
      "source": [
        "def get_variables():\r\n",
        "\r\n",
        "  print(\"NUMBER OF RESTAURANTS:\\t {} restaurants\".format(NR))\r\n",
        "  print(\"RESTAURANTS RATINGS:\\t {}\".format(list(RATINGS)))\r\n",
        "  print(\"TOTAL PERIOD OF TIME:\\t {} periods\".format(T))\r\n",
        "  print(\"TOTAL NUMBER OF CLIENTS: {} clients\".format(NC))\r\n",
        "  print(\"TOTAL SET OF PRICES:\\t {}\".format(list(A)))\r\n",
        "  print(\"MAX NUMBER OF MEALS:\\t {} meals per restaurant\".format(C_MAX))"
      ],
      "execution_count": null,
      "outputs": []
    },
    {
      "cell_type": "code",
      "metadata": {
        "colab": {
          "base_uri": "https://localhost:8080/"
        },
        "id": "LfHn1seRJ0YP",
        "outputId": "719b7c68-6101-4d0a-9dd4-7bab41a8875f"
      },
      "source": [
        "set_variables()\r\n",
        "get_variables()"
      ],
      "execution_count": null,
      "outputs": [
        {
          "output_type": "stream",
          "text": [
            "NUMBER OF RESTAURANTS:\t 3 restaurants\n",
            "RESTAURANTS RATINGS:\t [0.76, 0.77, 0.8]\n",
            "TOTAL PERIOD OF TIME:\t 500 periods\n",
            "TOTAL NUMBER OF CLIENTS: 1080 clients\n",
            "TOTAL SET OF PRICES:\t [1.0, 2.0, 3.0, 4.0, 5.0, 6.0, 7.0, 8.0, 9.0, 10.0]\n",
            "MAX NUMBER OF MEALS:\t 300 meals per restaurant\n"
          ],
          "name": "stdout"
        }
      ]
    },
    {
      "cell_type": "markdown",
      "metadata": {
        "id": "vRvD95EPGK9F"
      },
      "source": [
        "### *I.C. CLIENTS DISTRIBUTION*"
      ]
    },
    {
      "cell_type": "markdown",
      "metadata": {
        "id": "banzYRV1K4_B"
      },
      "source": [
        "The number of clients (**current_NC**) wanting to order meals on the platform at some time t, is determined according a normal law with a $\\frac{2}{3}$ mean and a $0.2$ variance. In order to find those parameters we used the following piece of information:\r\n",
        "- https://help.uber.com/en/driving-and-delivering/article/when-and-where-will-i-get-the-most-delivery-requests?nodeId=3ece579a-21d3-4b0c-96fd-f3f240308ecb.\r\n",
        "\r\n",
        "According to Uber Eats, the orders peak is 1h30 before the closing time of the restaurant which represent around $\\frac{2}{3}$ of the opening time of the restaurants.\r\n",
        "\r\n",
        "*Remark: to make this model even more interesting, we could hace considered the day of the week and the exact period of the day to modify both T and NC before finally computing the time distribution.*"
      ]
    },
    {
      "cell_type": "code",
      "metadata": {
        "id": "myZryG5uOUK1"
      },
      "source": [
        "# gives the distribution of clients over the time\r\n",
        "def get_time_distribution(TIME,NC):\r\n",
        "\r\n",
        "  mu, sigma, distribution = (2/3) * T, 0.2 * T, np.zeros([T])\r\n",
        "\r\n",
        "  # normal distribution\r\n",
        "  for t in range(T):\r\n",
        "    d = ((2*np.pi*(sigma**2))**(-1/2)) * np.exp((-1/2)*(t-mu)**2/(sigma**2))\r\n",
        "    distribution[t] = d  \r\n",
        "  \r\n",
        "  # normalization of the distribution\r\n",
        "  distribution = distribution / np.sum(distribution)\r\n",
        "\r\n",
        "  # useful to draw some period of time from which we remove or add clients\r\n",
        "  # (the less likely the period is to have many clients\r\n",
        "  # the more it is to have clients removed)\r\n",
        "  distribution_proba = np.copy(distribution)\r\n",
        "  distribution_proba_inv = (1 - np.copy(distribution)) / (T - 1)\r\n",
        "\r\n",
        "  # the following lines are needed to consider suitable integer values\r\n",
        "  distribution = np.round(1/2 + NC * distribution)\r\n",
        "\r\n",
        "  # the following final lines are needed to conserve the total number of clients\r\n",
        "  # (modified due to rounding)\r\n",
        "\r\n",
        "  distribution_NC = np.sum(distribution)\r\n",
        "\r\n",
        "  # more clients than needed\r\n",
        "  if distribution_NC > NC:\r\n",
        "    # we randomly remove clients at some period of time\r\n",
        "    while distribution_NC > NC:\r\n",
        "      t = np.random.choice(T, p = distribution_proba_inv)\r\n",
        "      if distribution[t] > 0:\r\n",
        "        distribution[t] -= 1\r\n",
        "        distribution_NC -= 1\r\n",
        "  \r\n",
        "  # less clients than needed\r\n",
        "  elif distribution_NC < NC:\r\n",
        "    # we randomly add clients at some period of time\r\n",
        "    while distribution_NC < NC:\r\n",
        "      t = np.random.choice(T, p = distribution_proba)\r\n",
        "      distribution[t] += 1\r\n",
        "      distribution_NC += 1\r\n",
        "\r\n",
        "  return distribution"
      ],
      "execution_count": null,
      "outputs": []
    },
    {
      "cell_type": "code",
      "metadata": {
        "id": "C5N0iIyJfopy"
      },
      "source": [
        "def plot_time_distribution(time_distribution):\r\n",
        "\r\n",
        "  T = len(time_distribution)\r\n",
        "  \r\n",
        "  # time\r\n",
        "  x_axis = np.arange(T)\r\n",
        "\r\n",
        "  # distribution of clients\r\n",
        "  y_axis = time_distribution\r\n",
        "\r\n",
        "  N = np.sum(time_distribution)\r\n",
        "\r\n",
        "  # normal distribution\r\n",
        "  mu, sigma, distribution = (2/3) * T, 0.2 * T, np.zeros([T])\r\n",
        "  for t in range(T):\r\n",
        "    d = ((2*np.pi*(sigma**2))**(-1/2)) * np.exp((-1/2)*(t-mu)**2/(sigma**2))\r\n",
        "    distribution[t] = d\r\n",
        "  distribution = N * distribution / np.sum(distribution)\r\n",
        "\r\n",
        "  label_1 = \"distribution of clients over the time\"\r\n",
        "  label_2 = \"normalized normal distribution (mu = 2/3 * T, sigma = 0.2 * T)\"\r\n",
        "\r\n",
        "  plt.plot(x_axis,y_axis,label=label_1)\r\n",
        "  plt.plot(x_axis,distribution,'r',label=label_2)\r\n",
        "  plt.xlabel(\"TIME\")\r\n",
        "  plt.ylabel(\"NUMBER OF CLIENTS\")\r\n",
        "  plt.rcParams[\"figure.figsize\"] = (12,8)\r\n",
        "  plt.legend()\r\n",
        "  plt.show()"
      ],
      "execution_count": null,
      "outputs": []
    },
    {
      "cell_type": "code",
      "metadata": {
        "colab": {
          "base_uri": "https://localhost:8080/"
        },
        "id": "GTRMKB7U5p1o",
        "outputId": "d82985d5-b6c1-43df-d533-890774550045"
      },
      "source": [
        "time_distribution = get_time_distribution(T,NC)\r\n",
        "plot_time_distribution(time_distribution)"
      ],
      "execution_count": null,
      "outputs": [
        {
          "output_type": "display_data",
          "data": {
            "image/png": "[encoded data removed]",
            "text/plain": [
              "<Figure size 864x576 with 1 Axes>"
            ]
          },
          "metadata": {
            "tags": []
          }
        }
      ]
    },
    {
      "cell_type": "markdown",
      "metadata": {
        "id": "7paudi9B2FPB"
      },
      "source": [
        "### *I.D. THE DEMAND*"
      ]
    },
    {
      "cell_type": "markdown",
      "metadata": {
        "id": "-MwGZS5rO6If"
      },
      "source": [
        "Thanks to the previous part we know how many clients are going to order food a certain time t. Now, so as to determine the demand of each of the restaurants, we have to find a distribution functions of the **current_NC** clients among the **NR** restaurants with respects to **RATINGS** and **PRICES** (an array containg the respective prices of the restaurants at some point).\r\n",
        "\r\n",
        "To do so we consider for each restaurant the ratio between its rating and its normalized price (ratio between the price and P$_{MAX}$) multiplied by $1.25$ to give $33$% more importance to the rating. In fact, according to some studies, it seems that people are more interested in the rating than they are to the price when choosing a product with an online business. Here are some of the studies and articles read:\r\n",
        "- [Quality More Important to Consumers than Price as Influence of Discounts on Purchase Decisions Declines](https://www.firstinsight.com/press-releases/quality-more-important-than-price-study#:~:text=June%2025%2C%202018%20%E2%80%93%20Quality%20is,retailers%20make%20product%20investment%20and)\r\n",
        "- [Online reviews statistics to know in 2021](https://www.qualtrics.com/blog/online-review-stats/)\r\n",
        "- [Survey Confirms the Value of Reviews, Provides New Insights](https://www.powerreviews.com/blog/survey-confirms-the-value-of-reviews/)\r\n",
        "\r\n",
        "This ratio determines the order in which a client would consider the restaurants while ordering. When a client has picked a restaurant to determine whether he is going to order there or consider the following restaurant, we consider a probability law based only on the data of the current restaurant (rating and price).\r\n",
        "\r\n",
        "If a restaurant doesn't have enough meals for the number of clients it has been assigned, the remaining clients will be dispatched in the other restaurants. If at some point all the restaurants are full they are about to empty their stock), the platform will close.\r\n",
        "\r\n",
        "*Remark: In order to build an even more realistic model we could have considered a food classification of the restaurants among a finite set of categories (e.g. spicy food -> 0, sushi -> 1, pizza -> 3) and randomly given a preference policy to each of the clients. Moreover if a restaurant is full, they is a probability that the clients not served prefer not to order in any of the other restaurant, but we didn't implement such behaviour since we don't know that probability*"
      ]
    },
    {
      "cell_type": "code",
      "metadata": {
        "id": "GhvUatEDPZAs"
      },
      "source": [
        "# the demand function\r\n",
        "def demand(t,RATINGS,PRICES,STOCKS):\r\n",
        "\r\n",
        "  current_NC = int(time_distribution[t])\r\n",
        "\r\n",
        "  # an array giving the ratios of the restaurants\r\n",
        "  restaurants_ratios = np.zeros([NR])\r\n",
        "\r\n",
        "  for i,rating in enumerate(RATINGS):\r\n",
        "\r\n",
        "    # quality-price ratio\r\n",
        "    r = (1.33 * rating) / (PRICES[i] / P_MAX)\r\n",
        "    restaurants_ratios[i] = r\r\n",
        "\r\n",
        "  \r\n",
        "  client_repartition = np.zeros([NR])\r\n",
        "  probas = restaurants_ratios / np.sum(restaurants_ratios)\r\n",
        "\r\n",
        "  for i in range(current_NC):\r\n",
        "\r\n",
        "    # the number of restaurant visited\r\n",
        "    count = 1\r\n",
        "    ind = int(np.random.choice(np.arange(NR), p=probas))\r\n",
        "    restaurants_visited = [ind]\r\n",
        "\r\n",
        "    if STOCKS[ind] == client_repartition[ind]:\r\n",
        "\r\n",
        "        go = 0\r\n",
        "\r\n",
        "    else:\r\n",
        "      \r\n",
        "      proba = RATINGS[ind] * np.sqrt((1 - np.sqrt(PRICES[ind]/P_MAX)))\r\n",
        "      go = np.random.choice(np.arange(2),p=[1-proba,proba])\r\n",
        "    \r\n",
        "      if go:\r\n",
        "        client_repartition[ind] += 1\r\n",
        "    \r\n",
        "    while count < NR and go == 0:\r\n",
        "\r\n",
        "      count += 1\r\n",
        "      ind = int(np.random.choice(np.arange(NR), p=probas))\r\n",
        "      while ind in restaurants_visited:\r\n",
        "        ind = int(np.random.choice(np.arange(NR), p=probas))\r\n",
        "      restaurants_visited.append(ind)\r\n",
        "      \r\n",
        "      if STOCKS[ind] == client_repartition[ind]:\r\n",
        "        go = 0\r\n",
        "\r\n",
        "      else:\r\n",
        "\r\n",
        "        proba = RATINGS[ind] * np.sqrt((1 - np.sqrt(PRICES[ind]/P_MAX)))\r\n",
        "        go = np.random.choice(np.arange(2),p=[1-proba,proba])\r\n",
        "      \r\n",
        "        if go:\r\n",
        "          client_repartition[ind] += 1\r\n",
        "  \r\n",
        "  return client_repartition"
      ],
      "execution_count": null,
      "outputs": []
    },
    {
      "cell_type": "markdown",
      "metadata": {
        "id": "Q-KpOBQFBQVw"
      },
      "source": [
        "### *I.E. REWARD*"
      ]
    },
    {
      "cell_type": "code",
      "metadata": {
        "id": "M2qBXJMcaZvi"
      },
      "source": [
        "# default penalty factor\r\n",
        "PF = 100 "
      ],
      "execution_count": null,
      "outputs": []
    },
    {
      "cell_type": "code",
      "metadata": {
        "id": "axteBXQ-tmbV"
      },
      "source": [
        "# reward function\r\n",
        "def get_reward(p,c_sold,c_kept,t,r):\r\n",
        "\r\n",
        "  # no more time remaining but some stock left\r\n",
        "  if t == 0:\r\n",
        "    rw = - PF * P_MAX * c_kept\r\n",
        "\r\n",
        "  else:\r\n",
        "    rw = p * c_sold\r\n",
        "  \r\n",
        "  return rw"
      ],
      "execution_count": null,
      "outputs": []
    },
    {
      "cell_type": "markdown",
      "metadata": {
        "id": "3A5Ye5qe-QRs"
      },
      "source": [
        "## **II. ENVIRONMENT**"
      ]
    },
    {
      "cell_type": "markdown",
      "metadata": {
        "id": "G3RVnhWn0bSN"
      },
      "source": [
        "Now that we have defined the initial parameters of our model, we have to determine the environment (the restaurants) on which our agent (the platform) is going to operate.\r\n",
        "\r\n",
        "The restaurants are defined by two criteria: the **observation space** and the possible **actions** applied to it.\r\n",
        "\r\n",
        "The observation space here"
      ]
    },
    {
      "cell_type": "markdown",
      "metadata": {
        "id": "k0xu4MUmBag9"
      },
      "source": [
        "**Remarks:**\r\n",
        "\r\n",
        "- ACTIONS<br>For each of the $N\\_R$ restaurants, an action is the fact of setting a price $p$ among $N\\_P+1$ possible values between $P\\_MIN$ and $P\\_MAX$ (both included) which is also choosing the index of an element in $A$.\r\n",
        "\r\n",
        "- STATES<br>For each of the $N\\_R$ restaurants, a state is the current stock of the restaurant with $C\\_MAX-C\\_MIN+1$ possible values between $C\\_MIN$ and $C\\_MAX$ (both included)."
      ]
    },
    {
      "cell_type": "code",
      "metadata": {
        "id": "juQxbUv8JvN5"
      },
      "source": [
        "# for policies other than the dynamic one\r\n",
        "def get_prices(policy):\r\n",
        "\r\n",
        "  if policy in POLICIES:\r\n",
        "    \r\n",
        "    if policy == \"average\":\r\n",
        "      prices = [(P_MIN + P_MAX) / 2 for i in range(NR)]\r\n",
        "      \r\n",
        "    elif policy == \"max\":\r\n",
        "      prices = [P_MAX for i in range(NR)]\r\n",
        "    \r\n",
        "    elif policy == \"min\":\r\n",
        "      prices = [P_MIN for i in range(NR)]\r\n",
        "    \r\n",
        "    elif policy == \"random\":\r\n",
        "      prices = [np.random.choice(A) for i in range(NR)]\r\n",
        "    \r\n",
        "    return prices\r\n",
        "    \r\n",
        "  else:\r\n",
        "\r\n",
        "    error_message = \"Invalid policy: {}\\nChoose one of these:\".format(policy)\r\n",
        "\r\n",
        "    for allowed_policy in POLICIES:\r\n",
        "      error_message += \" \" + allowed_policy\r\n",
        "    \r\n",
        "    raise ValueError(error_message)\r\n",
        "  "
      ],
      "execution_count": null,
      "outputs": []
    },
    {
      "cell_type": "code",
      "metadata": {
        "id": "nCNsBlC0B_i5"
      },
      "source": [
        "class CustomEnv(gym.Env):\r\n",
        "  \r\n",
        "\r\n",
        "\r\n",
        "  metadata = {'render.modes': ['human']}\r\n",
        "\r\n",
        "\r\n",
        "\r\n",
        "  def __init__(self):\r\n",
        "    \r\n",
        "    super(CustomEnv, self).__init__()\r\n",
        "\r\n",
        "    # ACTIONS = SETTING PRICE OF THE MEALS IN RESTAURANTS\r\n",
        "    self.action_space = Tuple([Discrete(NP+1) for i in range(NR)])\r\n",
        "    \r\n",
        "    # SPACES = STOCK (0 to C_MAX) & PRICES (P_MIN to P_MAX) OF THE RESTAURANTS\r\n",
        "    obs_space = []\r\n",
        "    for i  in range(NR):\r\n",
        "      obs_space.append(Tuple([Discrete(C_MAX + 1), Discrete(NP + 1)]))\r\n",
        "    self.observation_space = Tuple(obs_space)\r\n",
        "\r\n",
        "    # INITIAL TIME REMAINING\r\n",
        "    self.time_remaining = T-1\r\n",
        "    \r\n",
        "    # INITIAL STATES OF THE RESTAURANTS\r\n",
        "    # (rating, stock, price, current reward, cumulative reward since T_MIN)\r\n",
        "    self.restaurants = [(rating, C_MAX, P_MAX, 0, 0) for rating in RATINGS]\r\n",
        "\r\n",
        "\r\n",
        "\r\n",
        "  def step(self, action):\r\n",
        "\r\n",
        "    # time remaining\r\n",
        "    t = self.time_remaining\r\n",
        "\r\n",
        "    # policy to follow\r\n",
        "    policy = action[0]\r\n",
        "    \r\n",
        "    if policy == \"dynamic\":\r\n",
        "      prices = [P_MIN + action[1][i] * (P_MAX - P_MIN) / NP for i in range(NR)]\r\n",
        "    \r\n",
        "    else:\r\n",
        "      prices = get_prices(policy)\r\n",
        "    \r\n",
        "    stocks = [restaurant[1] for restaurant in self.restaurants]\r\n",
        "\r\n",
        "    client_distribution = demand(t, RATINGS, prices, stocks)\r\n",
        "    \r\n",
        "    # to keep track of the maximum of the restaurants stocks\r\n",
        "    max_stock = -1\r\n",
        "\r\n",
        "    for i,restaurant in enumerate(self.restaurants):\r\n",
        "\r\n",
        "      # rating\r\n",
        "      r = restaurant[0]\r\n",
        "\r\n",
        "      # current stock\r\n",
        "      c = restaurant[1]\r\n",
        "\r\n",
        "      # price\r\n",
        "      p = prices[i]\r\n",
        "\r\n",
        "      # demand\r\n",
        "      d = int(client_distribution[i])\r\n",
        "\r\n",
        "      # stock sold and new current stock\r\n",
        "      c_sold = d\r\n",
        "      c_kept = c - c_sold\r\n",
        "\r\n",
        "      max_stock = max(max_stock, c_kept)\r\n",
        "\r\n",
        "      # current reward\r\n",
        "      rw = get_reward(p,c_sold,c_kept,t,r)\r\n",
        "      \r\n",
        "      # cumulative reward\r\n",
        "      crw = restaurant[4] + rw\r\n",
        "      \r\n",
        "      # update the state of the restaurant\r\n",
        "      self.restaurants[i] = (r,c_kept,p,rw,crw)\r\n",
        "    \r\n",
        "    # no more stock or time remaining equals to 0\r\n",
        "    if max_stock == 0 or self.time_remaining == 0:\r\n",
        "      done = True\r\n",
        "    \r\n",
        "    else:\r\n",
        "      done = False\r\n",
        "    \r\n",
        "    # the time remaining decrease\r\n",
        "    self.time_remaining -= 1\r\n",
        "\r\n",
        "    return self.restaurants, done\r\n",
        "\r\n",
        "\r\n",
        "  def reset(self):\r\n",
        "\r\n",
        "    # INITIAL TIME REMAINING\r\n",
        "    self.time_remaining = T-1\r\n",
        "    \r\n",
        "    # INITIAL STATES OF THE RESTAURANTS\r\n",
        "    # (rating, stock, price, current reward, cumulative reward since T_MIN)\r\n",
        "    self.restaurants = [(rating, C_MAX, P_MAX, 0, 0) for rating in RATINGS]\r\n",
        "    \r\n",
        "    return self.restaurants\r\n",
        "  \r\n",
        "\r\n",
        "  def render(self, mode='human', close=False):\r\n",
        "\r\n",
        "    print(\"----------\\n\")\r\n",
        "\r\n",
        "    for i,restaurant in enumerate(self.restaurants):\r\n",
        "      r, c, p, rw, crw = restaurant \r\n",
        "      print(\"RESTAURANT {}\".format(i+1))\r\n",
        "      print(\"rating: {}\\t| stock: {}\\t| price: {}\\t| reward: {}\\t| cumulated reward: {}\\n\".format(r,c,p,rw,crw))"
      ],
      "execution_count": null,
      "outputs": []
    },
    {
      "cell_type": "markdown",
      "metadata": {
        "id": "NyrYOGaRX1T8"
      },
      "source": [
        "## **III. Q-LEARNING**"
      ]
    },
    {
      "cell_type": "code",
      "metadata": {
        "id": "0oJz5wtHP9qR"
      },
      "source": [
        "def initialize_q_tables(NR, C_MAX, NP):\r\n",
        "\r\n",
        "  # each restaurant has its own q_table\r\n",
        "  q_tables = np.random.rand(NR, C_MAX + 1, NP + 1)\r\n",
        "  for i in range(NR):\r\n",
        "    q_tables[i][0] = np.zeros([NP+1])\r\n",
        "  \r\n",
        "  return q_tables"
      ],
      "execution_count": null,
      "outputs": []
    },
    {
      "cell_type": "code",
      "metadata": {
        "id": "S4HLw6H2RDvq"
      },
      "source": [
        "def process(policy, q_table, max_epoch, period):\r\n",
        "\r\n",
        "  env = CustomEnv()\r\n",
        "\r\n",
        "  # hyperparameters\r\n",
        "  alpha = 0.3\r\n",
        "  gamma = 0.6\r\n",
        "  epsilon = 0.1\r\n",
        "  average_prices = np.zeros([T])\r\n",
        "\r\n",
        "  for j in range(1,max_epoch+1):\r\n",
        "\r\n",
        "    states = env.reset()\r\n",
        "\r\n",
        "    epochs, penalties, reward = 0,0,0\r\n",
        "    done = False\r\n",
        "\r\n",
        "    steps = 0\r\n",
        "\r\n",
        "    while not done:\r\n",
        "\r\n",
        "      # explore action space (epsilon-greedy)\r\n",
        "      if np.random.random() < epsilon:\r\n",
        "        action = (policy, list(env.action_space.sample()))  \r\n",
        "      \r\n",
        "      # exploit learned values\r\n",
        "      else:\r\n",
        "        prices = [] \r\n",
        "        for i,restaurant in enumerate(states):\r\n",
        "          c = restaurant[1]\r\n",
        "          q_table = q_tables[i]\r\n",
        "          prices.append(np.argmax(q_table[c]))\r\n",
        "        action = (policy, prices)\r\n",
        "      \r\n",
        "      prices = action[1]\r\n",
        "\r\n",
        "      next_states, done = env.step(action)\r\n",
        "\r\n",
        "      current_prices = np.array([next_states[i][2] for i in range(NR)])\r\n",
        "      current_price = np.sum(current_prices) / NR\r\n",
        "\r\n",
        "      average_prices[steps] += current_price\r\n",
        "      steps += 1\r\n",
        "\r\n",
        "      # q_learning values for the states \"states\" under the actions \"actions\"\r\n",
        "      old_values = []\r\n",
        "      for i,restaurant in enumerate(states):\r\n",
        "        c = restaurant[1]\r\n",
        "        q_table = q_tables[i]\r\n",
        "        price = prices[i]\r\n",
        "        old_values.append(q_table[c][price])\r\n",
        "\r\n",
        "      # max q_learning values for the states \"states\" under the actions \"actions\"\r\n",
        "      next_maxs = []\r\n",
        "      for i,restaurant in enumerate(next_states):\r\n",
        "        c = restaurant[1]\r\n",
        "        q_table = q_tables[i]\r\n",
        "        next_maxs.append(np.max(q_table[c]))\r\n",
        "\r\n",
        "      # update of the q_learning values\r\n",
        "      for i,restaurant in enumerate(next_states):\r\n",
        "        c = restaurant[1]\r\n",
        "        rw = restaurant[3]\r\n",
        "        q_tables[i][c][prices[i]] = (1-alpha)*old_values[i] + alpha*(rw+gamma*next_maxs[i]) \r\n",
        "\r\n",
        "    if j % period == 0:\r\n",
        "      env.render()\r\n",
        "  \r\n",
        "  average_prices = average_prices / max_epoch\r\n",
        "\r\n",
        "  return q_tables, average_prices"
      ],
      "execution_count": null,
      "outputs": []
    },
    {
      "cell_type": "code",
      "metadata": {
        "colab": {
          "background_save": true,
          "base_uri": "https://localhost:8080/"
        },
        "id": "yw_7W-feP5mQ",
        "outputId": "18d3ef95-cc1f-435e-bce4-a63bb9ef9158"
      },
      "source": [
        "PF = 100\r\n",
        "q_tables = initialize_q_tables(NR, C_MAX, NP)\r\n",
        "q_tables, prices = process(\"dynamic\", q_tables, 100000, 1000)"
      ],
      "execution_count": null,
      "outputs": [
        {
          "output_type": "stream",
          "text": [
            "----------\n",
            "\n",
            "RESTAURANT 1\n",
            "rating: 0.76\t| stock: 0\t| price: 1.0\t| reward: 0\t| cumulated reward: 1261.0\n",
            "\n",
            "RESTAURANT 2\n",
            "rating: 0.77\t| stock: 21\t| price: 2.0\t| reward: -21000\t| cumulated reward: -19848.0\n",
            "\n",
            "RESTAURANT 3\n",
            "rating: 0.8\t| stock: 0\t| price: 4.0\t| reward: 0\t| cumulated reward: 1257.0\n",
            "\n",
            "----------\n",
            "\n",
            "RESTAURANT 1\n",
            "rating: 0.76\t| stock: 57\t| price: 7.0\t| reward: -57000\t| cumulated reward: -55849.0\n",
            "\n",
            "RESTAURANT 2\n",
            "rating: 0.77\t| stock: 0\t| price: 8.0\t| reward: 0\t| cumulated reward: 1289.0\n",
            "\n",
            "RESTAURANT 3\n",
            "rating: 0.8\t| stock: 0\t| price: 1.0\t| reward: 0\t| cumulated reward: 1308.0\n",
            "\n",
            "----------\n",
            "\n",
            "RESTAURANT 1\n",
            "rating: 0.76\t| stock: 0\t| price: 5.0\t| reward: 0\t| cumulated reward: 1326.0\n",
            "\n",
            "RESTAURANT 2\n",
            "rating: 0.77\t| stock: 14\t| price: 10.0\t| reward: -14000\t| cumulated reward: -12737.0\n",
            "\n",
            "RESTAURANT 3\n",
            "rating: 0.8\t| stock: 29\t| price: 8.0\t| reward: -29000\t| cumulated reward: -27758.0\n",
            "\n",
            "----------\n",
            "\n",
            "RESTAURANT 1\n",
            "rating: 0.76\t| stock: 30\t| price: 4.0\t| reward: -30000\t| cumulated reward: -28758.0\n",
            "\n",
            "RESTAURANT 2\n",
            "rating: 0.77\t| stock: 10\t| price: 6.0\t| reward: -10000\t| cumulated reward: -8645.0\n",
            "\n",
            "RESTAURANT 3\n",
            "rating: 0.8\t| stock: 17\t| price: 2.0\t| reward: -17000\t| cumulated reward: -15698.0\n",
            "\n",
            "----------\n",
            "\n",
            "RESTAURANT 1\n",
            "rating: 0.76\t| stock: 0\t| price: 1.0\t| reward: 0\t| cumulated reward: 1271.0\n",
            "\n",
            "RESTAURANT 2\n",
            "rating: 0.77\t| stock: 31\t| price: 4.0\t| reward: -31000\t| cumulated reward: -29756.0\n",
            "\n",
            "RESTAURANT 3\n",
            "rating: 0.8\t| stock: 10\t| price: 4.0\t| reward: -10000\t| cumulated reward: -8764.0\n",
            "\n",
            "----------\n",
            "\n",
            "RESTAURANT 1\n",
            "rating: 0.76\t| stock: 16\t| price: 2.0\t| reward: -16000\t| cumulated reward: -14759.0\n",
            "\n",
            "RESTAURANT 2\n",
            "rating: 0.77\t| stock: 29\t| price: 6.0\t| reward: -29000\t| cumulated reward: -27824.0\n",
            "\n",
            "RESTAURANT 3\n",
            "rating: 0.8\t| stock: 0\t| price: 4.0\t| reward: 0\t| cumulated reward: 1231.0\n",
            "\n",
            "----------\n",
            "\n",
            "RESTAURANT 1\n",
            "rating: 0.76\t| stock: 14\t| price: 5.0\t| reward: -14000\t| cumulated reward: -12815.0\n",
            "\n",
            "RESTAURANT 2\n",
            "rating: 0.77\t| stock: 35\t| price: 4.0\t| reward: -35000\t| cumulated reward: -33799.0\n",
            "\n",
            "RESTAURANT 3\n",
            "rating: 0.8\t| stock: 0\t| price: 8.0\t| reward: 0\t| cumulated reward: 1325.0\n",
            "\n"
          ],
          "name": "stdout"
        }
      ]
    },
    {
      "cell_type": "code",
      "metadata": {
        "colab": {
          "base_uri": "https://localhost:8080/",
          "height": 514
        },
        "id": "fVZZ4yDuVkuS",
        "outputId": "7520dd7c-2889-45fe-9275-e55ad08c20fa"
      },
      "source": [
        "x = np.arange(T)\r\n",
        "y = prices\r\n",
        "plt.plot(x,y)\r\n",
        "plt.xlabel(\"TIME\")\r\n",
        "plt.ylabel(\"AVERAGE PRICE\")"
      ],
      "execution_count": null,
      "outputs": [
        {
          "output_type": "execute_result",
          "data": {
            "text/plain": [
              "Text(0, 0.5, 'AVERAGE PRICE')"
            ]
          },
          "metadata": {
            "tags": []
          },
          "execution_count": 203
        },
        {
          "output_type": "display_data",
          "data": {
            "image/png": "[encoded data removed]",
            "text/plain": [
              "<Figure size 864x576 with 1 Axes>"
            ]
          },
          "metadata": {
            "tags": [],
            "needs_background": "light"
          }
        }
      ]
    },
    {
      "cell_type": "markdown",
      "metadata": {
        "id": "-PdKgze0mx0q"
      },
      "source": [
        "## **IV. EXPERIENCES**"
      ]
    },
    {
      "cell_type": "markdown",
      "metadata": {
        "id": "RIPb0tv5ocVb"
      },
      "source": [
        "### *IV.1 REWARD INFLUENCE*"
      ]
    },
    {
      "cell_type": "markdown",
      "metadata": {
        "id": "1bXdxgnMnfiW"
      },
      "source": [
        "### *IV.2 POLICY INFLUENCE*\r\n"
      ]
    }
  ]
}